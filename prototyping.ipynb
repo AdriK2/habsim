{
 "cells": [
  {
   "cell_type": "code",
   "execution_count": 148,
   "metadata": {},
   "outputs": [],
   "source": [
    "import h5py\n",
    "import numpy as np \n",
    "import math\n",
    "\n",
    "levels = [1, 2, 3, 5, 7, 10, 20, 30, 50, 70,\\\n",
    "          100, 150, 200, 250, 300, 350, 400, 450,\\\n",
    "          500, 550, 600, 650, 700, 750, 800, 850,\\\n",
    "          900, 925, 950, 975, 1000]\n",
    "\n",
    "def open_h5(filename):\n",
    "    hf = h5py.File(filename, 'r')\n",
    "    return hf['test']\n",
    "\n",
    "\n",
    "def get_wind(data, lat_res, lon_res, level_res):\n",
    "    lat_i, lat_f = lat_res\n",
    "    lon_i, lon_f = lon_res\n",
    "    level_i, level_f = level_res\n",
    "\n",
    "    u = data[0][level_i][lat_i][lon_i] * lat_f * lon_f * level_f + \\\n",
    "        data[0][level_i][lat_i + 1][lon_i] * (1-lat_f) * lon_f * level_f + \\\n",
    "        data[0][level_i][lat_i][lon_i + 1] * lat_f * (1-lon_f) * level_f + \\\n",
    "        data[0][level_i][lat_i + 1][lon_i + 1] * (1-lat_f) * (1-lon_f) * level_f + \\\n",
    "        data[0][level_i + 1][lat_i][lon_i]* lat_f * lon_f * (1-level_f) + \\\n",
    "        data[0][level_i + 1][lat_i + 1][lon_i] * (1-lat_f) * lon_f * (1-level_f) + \\\n",
    "        data[0][level_i + 1][lat_i][lon_i + 1]* lat_f * (1-lon_f) * (1-level_f) + \\\n",
    "        data[0][level_i + 1][lat_i + 1][lon_i + 1] * (1-lat_f) * (1-lon_f) * (1-level_f)\n",
    "        \n",
    "    v = data[1][level_i][lat_i][lon_i] * lat_f * lon_f * level_f + \\\n",
    "        data[1][level_i][lat_i + 1][lon_i] * (1-lat_f) * lon_f * level_f + \\\n",
    "        data[1][level_i][lat_i][lon_i + 1] * lat_f * (1-lon_f) * level_f + \\\n",
    "        data[1][level_i][lat_i + 1][lon_i + 1] * (1-lat_f) * (1-lon_f) * level_f + \\\n",
    "        data[1][level_i + 1][lat_i][lon_i]* lat_f * lon_f * (1-level_f) + \\\n",
    "        data[1][level_i + 1][lat_i + 1][lon_i] * (1-lat_f) * lon_f * (1-level_f) + \\\n",
    "        data[1][level_i + 1][lat_i][lon_i + 1]* lat_f * (1-lon_f) * (1-level_f) + \\\n",
    "        data[1][level_i + 1][lat_i + 1][lon_i + 1] * (1-lat_f) * (1-lon_f) * (1-level_f)\n",
    "\n",
    "    return u, v\n",
    "\n",
    "## Array format: array[u,v][Pressure][Lat][Lon] ##\n",
    "## Currently [lat 90 to -90][lon 0 to 395.5]\n",
    "\n",
    "## Note: this returns bounds as array indices ##\n",
    "def get_bounds_and_fractions (lat, lon, alt):\n",
    "    \n",
    "    lat_res, lon_res, pressure_res = None, None, None\n",
    "    \n",
    "    pressure = alt_to_hpa(alt)\n",
    "\n",
    "    for i in range(len(levels)):\n",
    "        if pressure<=levels[i]:\n",
    "            fraction = (levels[i]-pressure)/(levels[i]-levels[i-1])\n",
    "            pressure_res = (i - 1, fraction)\n",
    "            break;\n",
    "        pressure_res = i-1, 0\n",
    "    \n",
    "    lat = lat * 2;\n",
    "    lat = 90 - lat;\n",
    "    lat_res = (math.floor(lat) , 1 - lat % 1)\n",
    "\n",
    "    \n",
    "    lat = (lon % 360) * 2;\n",
    "    lon_res = (math.floor(lat), 1 - lon % 1)\n",
    "\n",
    "    return lat_res, lon_res, pressure_res\n",
    "\n",
    "\n",
    "## Credits to KMarshland ##\n",
    "def alt_to_hpa(altitude):\n",
    "    pa_to_hpa = 1.0/100.0\n",
    "    if altitude < 11000:\n",
    "        return pa_to_hpa * math.exp(math.log(1.0 - (altitude/44330.7)) / 0.190266) * 101325.0\n",
    "    else:\n",
    "        return pa_to_hpa * math.exp(altitude / -6341.73) * 22632.1 / 0.176481\n",
    "\n",
    "\n"
   ]
  },
  {
   "cell_type": "code",
   "execution_count": 161,
   "metadata": {},
   "outputs": [
    {
     "name": "stdout",
     "output_type": "stream",
     "text": [
      "(6.576790359471774, -2.781118516543241)\n"
     ]
    }
   ],
   "source": [
    "print(get_wind(data, *get_bounds_and_fractions(2, -125, 300)))\n"
   ]
  },
  {
   "cell_type": "code",
   "execution_count": 70,
   "metadata": {},
   "outputs": [
    {
     "name": "stdout",
     "output_type": "stream",
     "text": [
      "(2, 31, 361, 720)\n"
     ]
    }
   ],
   "source": [
    "data = open_h5(\"../../gfsanl/2018020300.h5\")\n",
    "print(data.shape)"
   ]
  },
  {
   "cell_type": "code",
   "execution_count": 29,
   "metadata": {},
   "outputs": [],
   "source": [
    "### Altitude to pressure from RSud ###\n",
    "def a2pr(alt):\n",
    "    return 1013.25*(1.0 - alt/44330.0) ** (5.255)"
   ]
  },
  {
   "cell_type": "code",
   "execution_count": 46,
   "metadata": {},
   "outputs": [
    {
     "name": "stdout",
     "output_type": "stream",
     "text": [
      "(-0.014287420649214724-0.01474347439168669j)\n"
     ]
    },
    {
     "ename": "NameError",
     "evalue": "name 'a2pk' is not defined",
     "output_type": "error",
     "traceback": [
      "\u001b[0;31m----------------------------------------\u001b[0m",
      "\u001b[0;31mNameError\u001b[0mTraceback (most recent call last)",
      "\u001b[0;32m<ipython-input-46-79cc3eb0212f>\u001b[0m in \u001b[0;36m<module>\u001b[0;34m\u001b[0m\n\u001b[1;32m      1\u001b[0m \u001b[0mprint\u001b[0m\u001b[0;34m(\u001b[0m\u001b[0ma2pr\u001b[0m\u001b[0;34m(\u001b[0m\u001b[0;36m50000\u001b[0m\u001b[0;34m)\u001b[0m\u001b[0;34m)\u001b[0m\u001b[0;34m\u001b[0m\u001b[0;34m\u001b[0m\u001b[0m\n\u001b[0;32m----> 2\u001b[0;31m \u001b[0mprint\u001b[0m\u001b[0;34m(\u001b[0m\u001b[0ma2pk\u001b[0m\u001b[0;34m(\u001b[0m\u001b[0;36m50000\u001b[0m\u001b[0;34m)\u001b[0m\u001b[0;34m)\u001b[0m\u001b[0;34m\u001b[0m\u001b[0;34m\u001b[0m\u001b[0m\n\u001b[0m",
      "\u001b[0;31mNameError\u001b[0m: name 'a2pk' is not defined"
     ]
    }
   ],
   "source": [
    "print(a2pr(50000))\n",
    "print(a2pk(50000))"
   ]
  },
  {
   "cell_type": "code",
   "execution_count": 92,
   "metadata": {},
   "outputs": [],
   "source": [
    "import matplotlib\n",
    "import numpy as np\n",
    "import pygrib\n",
    "import urllib.request\n",
    "import os.path\n",
    "import math\n",
    "import sys"
   ]
  },
  {
   "cell_type": "code",
   "execution_count": 95,
   "metadata": {},
   "outputs": [],
   "source": [
    "def download_anl(y, m, d, h, save_dir):\n",
    "    save_path = get_file_name(save_dir, y, m, d, h)\n",
    "\n",
    "    url = \"https://nomads.ncdc.noaa.gov/data/gfsanl/\" + str(y) + str(m).zfill(2) + \"/\" + str(y) + str(m).zfill(2) + str(d).zfill(2) + \\\n",
    "              \"/gfsanl_4_\" + str(y) + str(m).zfill(2) + str(d).zfill(2) + \"_\" + str(h).zfill(2) + \"00_000.grb2\"\n",
    "\n",
    "    if not os.path.exists(save_path + \".grb2\"):\n",
    "        urllib.request.urlretrieve (url, save_path + \".grb2\")\n",
    "    return save_path\n",
    "\n",
    "def get_file_name(save_dir, y, m, d, h):\n",
    "    return save_dir + \"/\" + str(y) + str(m).zfill(2) + str(d).zfill(2) + str(h).zfill(2)\n"
   ]
  },
  {
   "cell_type": "code",
   "execution_count": 96,
   "metadata": {},
   "outputs": [],
   "source": [
    "y, m, d, h = 2018, 9, 1, 6 \n",
    "save_dir = \"../../gfsanl/\"\n",
    "\n",
    "path = download_anl(y, m, d, h, save_dir)"
   ]
  },
  {
   "cell_type": "code",
   "execution_count": 98,
   "metadata": {},
   "outputs": [
    {
     "name": "stdout",
     "output_type": "stream",
     "text": [
      "../../gfsanl//2018090106\n"
     ]
    }
   ],
   "source": [
    "print(path)\n",
    "grbs = pygrib.open(path + \".grb2\")"
   ]
  },
  {
   "cell_type": "code",
   "execution_count": 69,
   "metadata": {},
   "outputs": [],
   "source": [
    "levels = [1, 2, 3, 5, 7, 10, 20, 30, 50, 70,\\\n",
    "          100, 150, 200, 250, 300, 350, 400, 450,\\\n",
    "          500, 550, 600, 650, 700, 750, 800, 850,\\\n",
    "          900, 925, 950, 975, 1000]\n",
    "\n",
    "\n",
    "## Array format: array[u,v][Pressure][Lat][Lon] ##\n",
    "## Currently [lat 90 to -90][lon 0 to 395.5]\n",
    "\n",
    "dataset = np.zeros((2, len(levels), 180*2 + 1, 360*2))\n",
    "\n",
    "\n",
    "### Thanks to KMarshland for pointers on using PyGrib ###\n",
    "for i in range(len(levels)):\n",
    "    for grb in grbs.select(shortName='u',typeOfLevel='isobaricInhPa', level = levels[i]):\n",
    "        dataset[0][i] = grb.data()[0]\n",
    "        \n",
    "for i in range(len(levels)):\n",
    "    for grb in grbs.select(shortName='v',typeOfLevel='isobaricInhPa', level = levels[i]):\n",
    "        dataset[1][i] = grb.data()[0]\n",
    "        \n",
    "        "
   ]
  },
  {
   "cell_type": "code",
   "execution_count": 102,
   "metadata": {},
   "outputs": [
    {
     "name": "stdout",
     "output_type": "stream",
     "text": [
      "-2.8271119594573975\n"
     ]
    }
   ],
   "source": [
    "print(dataset[0][25][50][54])\n",
    "\n",
    "with h5py.File(path + \".h5\", 'w') as hf:\n",
    "    hf.create_dataset(\"test\", data = dataset, dtype = 'f', compression = 'lzf')"
   ]
  },
  {
   "cell_type": "code",
   "execution_count": 49,
   "metadata": {},
   "outputs": [
    {
     "ename": "FileNotFoundError",
     "evalue": "[Errno 2] No such file or directory: 'wind.csv'",
     "output_type": "error",
     "traceback": [
      "\u001b[0;31m---------------------------------------------------------------------\u001b[0m",
      "\u001b[0;31mFileNotFoundError\u001b[0m                   Traceback (most recent call last)",
      "\u001b[0;32m<ipython-input-49-cfd21b2f3896>\u001b[0m in \u001b[0;36m<module>\u001b[0;34m\u001b[0m\n\u001b[1;32m     19\u001b[0m \u001b[0mdata\u001b[0m \u001b[0;34m=\u001b[0m \u001b[0;34m{\u001b[0m\u001b[0;34m}\u001b[0m\u001b[0;34m\u001b[0m\u001b[0;34m\u001b[0m\u001b[0m\n\u001b[1;32m     20\u001b[0m \u001b[0;34m\u001b[0m\u001b[0m\n\u001b[0;32m---> 21\u001b[0;31m \u001b[0;32mwith\u001b[0m \u001b[0mopen\u001b[0m\u001b[0;34m(\u001b[0m\u001b[0;34m'wind.csv'\u001b[0m\u001b[0;34m)\u001b[0m \u001b[0;32mas\u001b[0m \u001b[0mwind_csv\u001b[0m\u001b[0;34m:\u001b[0m\u001b[0;34m\u001b[0m\u001b[0;34m\u001b[0m\u001b[0m\n\u001b[0m\u001b[1;32m     22\u001b[0m     \u001b[0mreader\u001b[0m \u001b[0;34m=\u001b[0m \u001b[0mcsv\u001b[0m\u001b[0;34m.\u001b[0m\u001b[0mreader\u001b[0m\u001b[0;34m(\u001b[0m\u001b[0mwind_csv\u001b[0m\u001b[0;34m)\u001b[0m\u001b[0;34m\u001b[0m\u001b[0;34m\u001b[0m\u001b[0m\n\u001b[1;32m     23\u001b[0m     \u001b[0;32mfor\u001b[0m \u001b[0myear\u001b[0m\u001b[0;34m,\u001b[0m \u001b[0mmonth\u001b[0m\u001b[0;34m,\u001b[0m \u001b[0mday\u001b[0m\u001b[0;34m,\u001b[0m \u001b[0mhour\u001b[0m\u001b[0;34m,\u001b[0m \u001b[0mu\u001b[0m\u001b[0;34m,\u001b[0m \u001b[0mv\u001b[0m\u001b[0;34m,\u001b[0m \u001b[0mt\u001b[0m\u001b[0;34m,\u001b[0m \u001b[0mh\u001b[0m\u001b[0;34m,\u001b[0m \u001b[0mp\u001b[0m \u001b[0;32min\u001b[0m \u001b[0mreader\u001b[0m\u001b[0;34m:\u001b[0m\u001b[0;34m\u001b[0m\u001b[0;34m\u001b[0m\u001b[0m\n",
      "\u001b[0;31mFileNotFoundError\u001b[0m: [Errno 2] No such file or directory: 'wind.csv'"
     ]
    }
   ],
   "source": [
    "import csv\n",
    "import random\n",
    "import math\n",
    "\n",
    "# https://ssi-teams.slack.com/archives/CB173KKEU/p1542677011199100\n",
    "ASCENT_RATE = 3.7\n",
    "ASCENT_RATE_STDEV = 0.2\n",
    "TARGET_ALT = 26.0 * 1000\n",
    "\n",
    "SA_LAT = 32.9904\n",
    "SA_LON = -106.9750\n",
    "EARTH_RAD = 6371000\n",
    "\n",
    "DATIL_LAT = 34.144444\n",
    "DATIL_LON = -107.844167\n",
    "QUEEN_LAT = 32.190833\n",
    "QUEEN_LON = -104.745833\n",
    "\n",
    "data = {}\n",
    "\n",
    "with open('wind.csv') as wind_csv:\n",
    "    reader = csv.reader(wind_csv)\n",
    "    for year, month, day, hour, u, v, t, h, p in reader:\n",
    "        if year == 'Year':\n",
    "            continue\n",
    "        key = year+'-'+month+'-'+day+'-'+hour\n",
    "        if key not in data:\n",
    "            data[key] = {}\n",
    "        data[key][float(h)] = (float(u), float(v))"
   ]
  },
  {
   "cell_type": "code",
   "execution_count": 41,
   "metadata": {},
   "outputs": [],
   "source": [
    "def a_new_moment():\n",
    "    return random.choice(data.keys())\n",
    "\n",
    "import bisect\n",
    "def get_wind_at_alt(moment, h):\n",
    "    atm = data[moment]\n",
    "    alts = sorted(atm.keys())\n",
    "    idx = bisect.bisect_left(alts, h)\n",
    "    h_l = alts[max(idx - 1, 0)]\n",
    "    h_r = alts[min(idx, len(alts) - 1)]\n",
    "    u_l, v_l = atm[h_l]\n",
    "    u_r, v_r = atm[h_r]\n",
    "    if h_l == h_r:\n",
    "        return u_l, v_l\n",
    "    else:\n",
    "        rat = (h - h_l) / (h_r - h_l)\n",
    "        return ((u_l + rat * (u_r - u_l)), (v_l + rat * (v_r - v_l)))"
   ]
  },
  {
   "cell_type": "code",
   "execution_count": 44,
   "metadata": {},
   "outputs": [
    {
     "data": {
      "image/png": "[encoded data removed]",
      "text/plain": [
       "<matplotlib.figure.Figure at 0x112fc7c90>"
      ]
     },
     "metadata": {},
     "output_type": "display_data"
    }
   ],
   "source": [
    "from matplotlib import pyplot as plt\n",
    "from numpy.random import normal\n",
    "\n",
    "map_img = plt.imread('map.png')\n",
    "fig, ax = plt.subplots()\n",
    "ax.imshow(map_img, aspect='equal', extent=[DATIL_LON, QUEEN_LON, QUEEN_LAT, DATIL_LAT])\n",
    "\n",
    "plt.title('ZPB Drift Predictions')\n",
    "plt.xlabel('Latitude')\n",
    "plt.ylabel('Longitude')\n",
    "plt.axis('equal')\n",
    "plt.plot(SA_LON, SA_LAT, '*r')\n",
    "\n",
    "m = a_new_moment()\n",
    "\n",
    "def do_a_thing():\n",
    "    w = normal(ASCENT_RATE, ASCENT_RATE_STDEV)\n",
    "    h = 0\n",
    "    x = 0\n",
    "    y = 0\n",
    "    lat = SA_LAT\n",
    "    lon = SA_LON\n",
    "    t = 0\n",
    "    traj_x = []\n",
    "    traj_y = []\n",
    "\n",
    "    dt = 60 # second\n",
    "    while h < TARGET_ALT:\n",
    "        h += w * dt\n",
    "        u, v = get_wind_at_alt(m, h)\n",
    "        dx = u * dt\n",
    "        dy = v * dt\n",
    "        x += dx\n",
    "        y += dy\n",
    "        t += dt\n",
    "        lat += (dy / (2 * math.pi * EARTH_RAD)) * 360\n",
    "        lon += (dx / (2 * math.pi * EARTH_RAD * math.cos(lat * math.pi / 180))) * 360\n",
    "        if t % 60 * 60 == 0:\n",
    "            plt.plot(lon, lat, '.y')\n",
    "            pass\n",
    "\n",
    "    plt.plot(lon, lat, '.b')\n",
    "\n",
    "for j in xrange(10):\n",
    "    m = a_new_moment()\n",
    "    for i in xrange(1):\n",
    "        do_a_thing()\n",
    "\n",
    "        \n",
    "plt.savefig('map.pdf', dpi=300)"
   ]
  },
  {
   "cell_type": "code",
   "execution_count": null,
   "metadata": {},
   "outputs": [],
   "source": []
  },
  {
   "cell_type": "code",
   "execution_count": null,
   "metadata": {},
   "outputs": [],
   "source": []
  }
 ],
 "metadata": {
  "celltoolbar": "Raw Cell Format",
  "kernelspec": {
   "display_name": "Python 3",
   "language": "python",
   "name": "python3"
  },
  "language_info": {
   "codemirror_mode": {
    "name": "ipython",
    "version": 3
   },
   "file_extension": ".py",
   "mimetype": "text/x-python",
   "name": "python",
   "nbconvert_exporter": "python",
   "pygments_lexer": "ipython3",
   "version": "3.6.7"
  }
 },
 "nbformat": 4,
 "nbformat_minor": 2
}
